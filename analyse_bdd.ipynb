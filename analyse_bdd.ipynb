{
 "cells": [
  {
   "cell_type": "code",
   "execution_count": 2,
   "metadata": {},
   "outputs": [],
   "source": [
    "import os\n",
    "import cv2\n",
    "import pandas as pd"
   ]
  },
  {
   "attachments": {},
   "cell_type": "markdown",
   "metadata": {},
   "source": [
    "# Analyse de la base de données d'entraînement"
   ]
  },
  {
   "cell_type": "code",
   "execution_count": 3,
   "metadata": {},
   "outputs": [],
   "source": [
    "# Liste des répertoires contenant les images\n",
    "image_dirs = ['train/aeroplane', 'train/bicycle', 'train/bus', 'train/car', 'train/horse', \n",
    "              'train/knife','train/motorcycle', 'train/person', 'train/plant', 'train/skateboard','train/train','train/truck']"
   ]
  },
  {
   "cell_type": "code",
   "execution_count": 4,
   "metadata": {},
   "outputs": [],
   "source": [
    "image_data = []\n",
    "for image_dir in image_dirs:\n",
    "    \n",
    "    image_files = [f for f in os.listdir(image_dir) if os.path.isfile(os.path.join(image_dir, f))]\n",
    "\n",
    "    for image_file in image_files:\n",
    "        image_path = os.path.join(image_dir, image_file)\n",
    "        img = cv2.imread(image_path)\n",
    "        height, width, _ = img.shape\n",
    "        image_data.append({'file': image_file, 'width': width, 'height': height, 'dir': image_dir})\n",
    "\n",
    "df = pd.DataFrame(image_data)"
   ]
  },
  {
   "cell_type": "code",
   "execution_count": 7,
   "metadata": {},
   "outputs": [],
   "source": [
    "df['dir'] = df['dir'].str.replace('train/', '', regex=False)"
   ]
  },
  {
   "cell_type": "code",
   "execution_count": 11,
   "metadata": {},
   "outputs": [],
   "source": [
    "df.rename(columns={'dir': 'object_type'}, inplace=True)"
   ]
  },
  {
   "cell_type": "code",
   "execution_count": 12,
   "metadata": {},
   "outputs": [
    {
     "data": {
      "text/html": [
       "<div>\n",
       "<style scoped>\n",
       "    .dataframe tbody tr th:only-of-type {\n",
       "        vertical-align: middle;\n",
       "    }\n",
       "\n",
       "    .dataframe tbody tr th {\n",
       "        vertical-align: top;\n",
       "    }\n",
       "\n",
       "    .dataframe thead th {\n",
       "        text-align: right;\n",
       "    }\n",
       "</style>\n",
       "<table border=\"1\" class=\"dataframe\">\n",
       "  <thead>\n",
       "    <tr style=\"text-align: right;\">\n",
       "      <th></th>\n",
       "      <th>file</th>\n",
       "      <th>width</th>\n",
       "      <th>height</th>\n",
       "      <th>object_type</th>\n",
       "    </tr>\n",
       "  </thead>\n",
       "  <tbody>\n",
       "    <tr>\n",
       "      <th>0</th>\n",
       "      <td>src_2_02691156_1d6afc44b053ab07941d71475449eb2...</td>\n",
       "      <td>384</td>\n",
       "      <td>216</td>\n",
       "      <td>aeroplane</td>\n",
       "    </tr>\n",
       "    <tr>\n",
       "      <th>1</th>\n",
       "      <td>src_1_02691156_7f09b3b11ae3f22dbe13ce34aa7c0c1...</td>\n",
       "      <td>384</td>\n",
       "      <td>216</td>\n",
       "      <td>aeroplane</td>\n",
       "    </tr>\n",
       "    <tr>\n",
       "      <th>2</th>\n",
       "      <td>src_2_02691156_7aac10eb5b285098774a720fca15e35...</td>\n",
       "      <td>384</td>\n",
       "      <td>216</td>\n",
       "      <td>aeroplane</td>\n",
       "    </tr>\n",
       "    <tr>\n",
       "      <th>3</th>\n",
       "      <td>src_2_02691156_1b0b1d2cb9f9d5c0575bd26acccafab...</td>\n",
       "      <td>384</td>\n",
       "      <td>216</td>\n",
       "      <td>aeroplane</td>\n",
       "    </tr>\n",
       "    <tr>\n",
       "      <th>4</th>\n",
       "      <td>src_2_02691156_4def53f149137451b0009f08a96f38a...</td>\n",
       "      <td>384</td>\n",
       "      <td>216</td>\n",
       "      <td>aeroplane</td>\n",
       "    </tr>\n",
       "  </tbody>\n",
       "</table>\n",
       "</div>"
      ],
      "text/plain": [
       "                                                file  width  height  \\\n",
       "0  src_2_02691156_1d6afc44b053ab07941d71475449eb2...    384     216   \n",
       "1  src_1_02691156_7f09b3b11ae3f22dbe13ce34aa7c0c1...    384     216   \n",
       "2  src_2_02691156_7aac10eb5b285098774a720fca15e35...    384     216   \n",
       "3  src_2_02691156_1b0b1d2cb9f9d5c0575bd26acccafab...    384     216   \n",
       "4  src_2_02691156_4def53f149137451b0009f08a96f38a...    384     216   \n",
       "\n",
       "  object_type  \n",
       "0   aeroplane  \n",
       "1   aeroplane  \n",
       "2   aeroplane  \n",
       "3   aeroplane  \n",
       "4   aeroplane  "
      ]
     },
     "execution_count": 12,
     "metadata": {},
     "output_type": "execute_result"
    }
   ],
   "source": [
    "df.head(5)"
   ]
  },
  {
   "cell_type": "code",
   "execution_count": 14,
   "metadata": {},
   "outputs": [
    {
     "data": {
      "text/html": [
       "<div>\n",
       "<style scoped>\n",
       "    .dataframe tbody tr th:only-of-type {\n",
       "        vertical-align: middle;\n",
       "    }\n",
       "\n",
       "    .dataframe tbody tr th {\n",
       "        vertical-align: top;\n",
       "    }\n",
       "\n",
       "    .dataframe thead th {\n",
       "        text-align: right;\n",
       "    }\n",
       "</style>\n",
       "<table border=\"1\" class=\"dataframe\">\n",
       "  <thead>\n",
       "    <tr style=\"text-align: right;\">\n",
       "      <th></th>\n",
       "      <th>width</th>\n",
       "      <th>height</th>\n",
       "    </tr>\n",
       "  </thead>\n",
       "  <tbody>\n",
       "    <tr>\n",
       "      <th>count</th>\n",
       "      <td>152397.000000</td>\n",
       "      <td>152397.000000</td>\n",
       "    </tr>\n",
       "    <tr>\n",
       "      <th>mean</th>\n",
       "      <td>383.998898</td>\n",
       "      <td>216.001102</td>\n",
       "    </tr>\n",
       "    <tr>\n",
       "      <th>std</th>\n",
       "      <td>0.430349</td>\n",
       "      <td>0.430349</td>\n",
       "    </tr>\n",
       "    <tr>\n",
       "      <th>min</th>\n",
       "      <td>216.000000</td>\n",
       "      <td>216.000000</td>\n",
       "    </tr>\n",
       "    <tr>\n",
       "      <th>25%</th>\n",
       "      <td>384.000000</td>\n",
       "      <td>216.000000</td>\n",
       "    </tr>\n",
       "    <tr>\n",
       "      <th>50%</th>\n",
       "      <td>384.000000</td>\n",
       "      <td>216.000000</td>\n",
       "    </tr>\n",
       "    <tr>\n",
       "      <th>75%</th>\n",
       "      <td>384.000000</td>\n",
       "      <td>216.000000</td>\n",
       "    </tr>\n",
       "    <tr>\n",
       "      <th>max</th>\n",
       "      <td>384.000000</td>\n",
       "      <td>384.000000</td>\n",
       "    </tr>\n",
       "  </tbody>\n",
       "</table>\n",
       "</div>"
      ],
      "text/plain": [
       "               width         height\n",
       "count  152397.000000  152397.000000\n",
       "mean      383.998898     216.001102\n",
       "std         0.430349       0.430349\n",
       "min       216.000000     216.000000\n",
       "25%       384.000000     216.000000\n",
       "50%       384.000000     216.000000\n",
       "75%       384.000000     216.000000\n",
       "max       384.000000     384.000000"
      ]
     },
     "execution_count": 14,
     "metadata": {},
     "output_type": "execute_result"
    }
   ],
   "source": [
    "df.describe()"
   ]
  },
  {
   "attachments": {},
   "cell_type": "markdown",
   "metadata": {},
   "source": [
    " Le dataframe comporte 152397 observations et donc autant pour l'entrainement du modèle. La largeur et longueur minimales des\n",
    " images est de 216pixels et au maximum 384."
   ]
  },
  {
   "attachments": {},
   "cell_type": "markdown",
   "metadata": {},
   "source": [
    "# Analyse de la base de données de test"
   ]
  },
  {
   "cell_type": "code",
   "execution_count": 26,
   "metadata": {},
   "outputs": [
    {
     "name": "stdout",
     "output_type": "stream",
     "text": [
      "['test/trunk01', 'test/trunk02', 'test/trunk03', 'test/trunk04', 'test/trunk05', 'test/trunk06', 'test/trunk07', 'test/trunk08', 'test/trunk09', 'test/trunk10', 'test/trunk11', 'test/trunk12', 'test/trunk13', 'test/trunk14', 'test/trunk15', 'test/trunk16', 'test/trunk17', 'test/trunk18', 'test/trunk19', 'test/trunk20']\n"
     ]
    }
   ],
   "source": [
    "trunk_list = ['test/trunk']*20\n",
    "\n",
    "for i in range(0,20):\n",
    "    if i+1 <10:\n",
    "        trunk_list[i] += '0'+ str(i+1)\n",
    "    else :\n",
    "        trunk_list[i] += str(i+1)\n",
    "\n",
    "print(trunk_list)"
   ]
  },
  {
   "cell_type": "code",
   "execution_count": 27,
   "metadata": {},
   "outputs": [],
   "source": [
    "image_data = []\n",
    "for image_dir in trunk_list:\n",
    "    \n",
    "    image_files = [f for f in os.listdir(image_dir) if os.path.isfile(os.path.join(image_dir, f))]\n",
    "\n",
    "    for image_file in image_files:\n",
    "        image_path = os.path.join(image_dir, image_file)\n",
    "        img = cv2.imread(image_path)\n",
    "        height, width, _ = img.shape\n",
    "        image_data.append({'file': image_file, 'width': width, 'height': height, 'dir': image_dir})\n",
    "\n",
    "df_test = pd.DataFrame(image_data)"
   ]
  },
  {
   "cell_type": "code",
   "execution_count": 28,
   "metadata": {},
   "outputs": [
    {
     "data": {
      "text/html": [
       "<div>\n",
       "<style scoped>\n",
       "    .dataframe tbody tr th:only-of-type {\n",
       "        vertical-align: middle;\n",
       "    }\n",
       "\n",
       "    .dataframe tbody tr th {\n",
       "        vertical-align: top;\n",
       "    }\n",
       "\n",
       "    .dataframe thead th {\n",
       "        text-align: right;\n",
       "    }\n",
       "</style>\n",
       "<table border=\"1\" class=\"dataframe\">\n",
       "  <thead>\n",
       "    <tr style=\"text-align: right;\">\n",
       "      <th></th>\n",
       "      <th>file</th>\n",
       "      <th>width</th>\n",
       "      <th>height</th>\n",
       "      <th>dir</th>\n",
       "    </tr>\n",
       "  </thead>\n",
       "  <tbody>\n",
       "    <tr>\n",
       "      <th>0</th>\n",
       "      <td>aee27c09dc17c298fb661b36d3387511.jpg</td>\n",
       "      <td>479</td>\n",
       "      <td>359</td>\n",
       "      <td>test/trunk01</td>\n",
       "    </tr>\n",
       "    <tr>\n",
       "      <th>1</th>\n",
       "      <td>77bd5c0a0ee6095a1ef6b75a8e0cc713.jpg</td>\n",
       "      <td>94</td>\n",
       "      <td>148</td>\n",
       "      <td>test/trunk01</td>\n",
       "    </tr>\n",
       "    <tr>\n",
       "      <th>2</th>\n",
       "      <td>cd4427fb3c7b2a782a7dd1539d5f0f8a.jpg</td>\n",
       "      <td>1279</td>\n",
       "      <td>719</td>\n",
       "      <td>test/trunk01</td>\n",
       "    </tr>\n",
       "    <tr>\n",
       "      <th>3</th>\n",
       "      <td>24d1d1368947149b25e7d6003fd6f846.jpg</td>\n",
       "      <td>273</td>\n",
       "      <td>239</td>\n",
       "      <td>test/trunk01</td>\n",
       "    </tr>\n",
       "    <tr>\n",
       "      <th>4</th>\n",
       "      <td>6d269505fc9f6583cb6b4e2d96046821.jpg</td>\n",
       "      <td>1279</td>\n",
       "      <td>226</td>\n",
       "      <td>test/trunk01</td>\n",
       "    </tr>\n",
       "  </tbody>\n",
       "</table>\n",
       "</div>"
      ],
      "text/plain": [
       "                                   file  width  height           dir\n",
       "0  aee27c09dc17c298fb661b36d3387511.jpg    479     359  test/trunk01\n",
       "1  77bd5c0a0ee6095a1ef6b75a8e0cc713.jpg     94     148  test/trunk01\n",
       "2  cd4427fb3c7b2a782a7dd1539d5f0f8a.jpg   1279     719  test/trunk01\n",
       "3  24d1d1368947149b25e7d6003fd6f846.jpg    273     239  test/trunk01\n",
       "4  6d269505fc9f6583cb6b4e2d96046821.jpg   1279     226  test/trunk01"
      ]
     },
     "execution_count": 28,
     "metadata": {},
     "output_type": "execute_result"
    }
   ],
   "source": [
    "df_test.head(5)"
   ]
  },
  {
   "cell_type": "code",
   "execution_count": 29,
   "metadata": {},
   "outputs": [
    {
     "data": {
      "text/html": [
       "<div>\n",
       "<style scoped>\n",
       "    .dataframe tbody tr th:only-of-type {\n",
       "        vertical-align: middle;\n",
       "    }\n",
       "\n",
       "    .dataframe tbody tr th {\n",
       "        vertical-align: top;\n",
       "    }\n",
       "\n",
       "    .dataframe thead th {\n",
       "        text-align: right;\n",
       "    }\n",
       "</style>\n",
       "<table border=\"1\" class=\"dataframe\">\n",
       "  <thead>\n",
       "    <tr style=\"text-align: right;\">\n",
       "      <th></th>\n",
       "      <th>width</th>\n",
       "      <th>height</th>\n",
       "    </tr>\n",
       "  </thead>\n",
       "  <tbody>\n",
       "    <tr>\n",
       "      <th>count</th>\n",
       "      <td>72372.000000</td>\n",
       "      <td>72372.000000</td>\n",
       "    </tr>\n",
       "    <tr>\n",
       "      <th>mean</th>\n",
       "      <td>406.713232</td>\n",
       "      <td>287.794009</td>\n",
       "    </tr>\n",
       "    <tr>\n",
       "      <th>std</th>\n",
       "      <td>293.804057</td>\n",
       "      <td>158.228341</td>\n",
       "    </tr>\n",
       "    <tr>\n",
       "      <th>min</th>\n",
       "      <td>70.000000</td>\n",
       "      <td>70.000000</td>\n",
       "    </tr>\n",
       "    <tr>\n",
       "      <th>25%</th>\n",
       "      <td>201.000000</td>\n",
       "      <td>175.000000</td>\n",
       "    </tr>\n",
       "    <tr>\n",
       "      <th>50%</th>\n",
       "      <td>338.000000</td>\n",
       "      <td>258.000000</td>\n",
       "    </tr>\n",
       "    <tr>\n",
       "      <th>75%</th>\n",
       "      <td>479.000000</td>\n",
       "      <td>359.000000</td>\n",
       "    </tr>\n",
       "    <tr>\n",
       "      <th>max</th>\n",
       "      <td>1279.000000</td>\n",
       "      <td>719.000000</td>\n",
       "    </tr>\n",
       "  </tbody>\n",
       "</table>\n",
       "</div>"
      ],
      "text/plain": [
       "              width        height\n",
       "count  72372.000000  72372.000000\n",
       "mean     406.713232    287.794009\n",
       "std      293.804057    158.228341\n",
       "min       70.000000     70.000000\n",
       "25%      201.000000    175.000000\n",
       "50%      338.000000    258.000000\n",
       "75%      479.000000    359.000000\n",
       "max     1279.000000    719.000000"
      ]
     },
     "execution_count": 29,
     "metadata": {},
     "output_type": "execute_result"
    }
   ],
   "source": [
    "df_test.describe()"
   ]
  },
  {
   "attachments": {},
   "cell_type": "markdown",
   "metadata": {},
   "source": [
    "Le jeu de données de test comporte 72372 images. La taille des images est beaucoup plus varié que pour le jeu de données de test. En effet on remarque que la largeur de l'image peut aller de 70 à 127pixels et la longuer de 70 à 719 de pixels. De plus nous avons une variance de 293,8 pour la largeur et de 158,2 pour la longueur ce qui est beaucoup plus que les 0,43 observés précedemment."
   ]
  },
  {
   "attachments": {},
   "cell_type": "markdown",
   "metadata": {},
   "source": [
    "# Analyse du jeu de validation"
   ]
  },
  {
   "attachments": {},
   "cell_type": "markdown",
   "metadata": {},
   "source": [
    "# Liste des répertoires contenant les images"
   ]
  },
  {
   "cell_type": "code",
   "execution_count": 33,
   "metadata": {},
   "outputs": [],
   "source": [
    "image_dirs_val = ['validation/aeroplane', 'validation/bicycle', 'validation/bus', 'validation/car', 'validation/horse',\n",
    "               'validation/knife','validation/motorcycle', 'validation/person', 'validation/plant', \n",
    "               'validation/skateboard','validation/train','validation/truck']"
   ]
  },
  {
   "cell_type": "code",
   "execution_count": 35,
   "metadata": {},
   "outputs": [],
   "source": [
    "image_data = []\n",
    "for image_dir in image_dirs_val:\n",
    "    \n",
    "    image_files = [f for f in os.listdir(image_dir) if os.path.isfile(os.path.join(image_dir, f))]\n",
    "\n",
    "    for image_file in image_files:\n",
    "        image_path = os.path.join(image_dir, image_file)\n",
    "        img = cv2.imread(image_path)\n",
    "        height, width, _ = img.shape\n",
    "        image_data.append({'file': image_file, 'width': width, 'height': height, 'dir': image_dir})\n",
    "\n",
    "df_val = pd.DataFrame(image_data)"
   ]
  },
  {
   "cell_type": "code",
   "execution_count": 36,
   "metadata": {},
   "outputs": [
    {
     "data": {
      "text/html": [
       "<div>\n",
       "<style scoped>\n",
       "    .dataframe tbody tr th:only-of-type {\n",
       "        vertical-align: middle;\n",
       "    }\n",
       "\n",
       "    .dataframe tbody tr th {\n",
       "        vertical-align: top;\n",
       "    }\n",
       "\n",
       "    .dataframe thead th {\n",
       "        text-align: right;\n",
       "    }\n",
       "</style>\n",
       "<table border=\"1\" class=\"dataframe\">\n",
       "  <thead>\n",
       "    <tr style=\"text-align: right;\">\n",
       "      <th></th>\n",
       "      <th>file</th>\n",
       "      <th>width</th>\n",
       "      <th>height</th>\n",
       "      <th>dir</th>\n",
       "    </tr>\n",
       "  </thead>\n",
       "  <tbody>\n",
       "    <tr>\n",
       "      <th>0</th>\n",
       "      <td>aeroplane_157679.jpg</td>\n",
       "      <td>640</td>\n",
       "      <td>318</td>\n",
       "      <td>validation/aeroplane</td>\n",
       "    </tr>\n",
       "    <tr>\n",
       "      <th>1</th>\n",
       "      <td>aeroplane_156567.jpg</td>\n",
       "      <td>640</td>\n",
       "      <td>349</td>\n",
       "      <td>validation/aeroplane</td>\n",
       "    </tr>\n",
       "    <tr>\n",
       "      <th>2</th>\n",
       "      <td>aeroplane_159898.jpg</td>\n",
       "      <td>586</td>\n",
       "      <td>225</td>\n",
       "      <td>validation/aeroplane</td>\n",
       "    </tr>\n",
       "    <tr>\n",
       "      <th>3</th>\n",
       "      <td>aeroplane_156573.jpg</td>\n",
       "      <td>151</td>\n",
       "      <td>98</td>\n",
       "      <td>validation/aeroplane</td>\n",
       "    </tr>\n",
       "    <tr>\n",
       "      <th>4</th>\n",
       "      <td>aeroplane_1793775.jpg</td>\n",
       "      <td>143</td>\n",
       "      <td>150</td>\n",
       "      <td>validation/aeroplane</td>\n",
       "    </tr>\n",
       "  </tbody>\n",
       "</table>\n",
       "</div>"
      ],
      "text/plain": [
       "                    file  width  height                   dir\n",
       "0   aeroplane_157679.jpg    640     318  validation/aeroplane\n",
       "1   aeroplane_156567.jpg    640     349  validation/aeroplane\n",
       "2   aeroplane_159898.jpg    586     225  validation/aeroplane\n",
       "3   aeroplane_156573.jpg    151      98  validation/aeroplane\n",
       "4  aeroplane_1793775.jpg    143     150  validation/aeroplane"
      ]
     },
     "execution_count": 36,
     "metadata": {},
     "output_type": "execute_result"
    }
   ],
   "source": [
    "df_val.head(5)"
   ]
  },
  {
   "cell_type": "code",
   "execution_count": 37,
   "metadata": {},
   "outputs": [
    {
     "data": {
      "text/html": [
       "<div>\n",
       "<style scoped>\n",
       "    .dataframe tbody tr th:only-of-type {\n",
       "        vertical-align: middle;\n",
       "    }\n",
       "\n",
       "    .dataframe tbody tr th {\n",
       "        vertical-align: top;\n",
       "    }\n",
       "\n",
       "    .dataframe thead th {\n",
       "        text-align: right;\n",
       "    }\n",
       "</style>\n",
       "<table border=\"1\" class=\"dataframe\">\n",
       "  <thead>\n",
       "    <tr style=\"text-align: right;\">\n",
       "      <th></th>\n",
       "      <th>width</th>\n",
       "      <th>height</th>\n",
       "    </tr>\n",
       "  </thead>\n",
       "  <tbody>\n",
       "    <tr>\n",
       "      <th>count</th>\n",
       "      <td>55388.000000</td>\n",
       "      <td>55388.000000</td>\n",
       "    </tr>\n",
       "    <tr>\n",
       "      <th>mean</th>\n",
       "      <td>275.599913</td>\n",
       "      <td>228.240431</td>\n",
       "    </tr>\n",
       "    <tr>\n",
       "      <th>std</th>\n",
       "      <td>180.958418</td>\n",
       "      <td>132.049515</td>\n",
       "    </tr>\n",
       "    <tr>\n",
       "      <th>min</th>\n",
       "      <td>71.000000</td>\n",
       "      <td>71.000000</td>\n",
       "    </tr>\n",
       "    <tr>\n",
       "      <th>25%</th>\n",
       "      <td>127.000000</td>\n",
       "      <td>118.000000</td>\n",
       "    </tr>\n",
       "    <tr>\n",
       "      <th>50%</th>\n",
       "      <td>210.000000</td>\n",
       "      <td>191.000000</td>\n",
       "    </tr>\n",
       "    <tr>\n",
       "      <th>75%</th>\n",
       "      <td>396.000000</td>\n",
       "      <td>315.000000</td>\n",
       "    </tr>\n",
       "    <tr>\n",
       "      <th>max</th>\n",
       "      <td>640.000000</td>\n",
       "      <td>640.000000</td>\n",
       "    </tr>\n",
       "  </tbody>\n",
       "</table>\n",
       "</div>"
      ],
      "text/plain": [
       "              width        height\n",
       "count  55388.000000  55388.000000\n",
       "mean     275.599913    228.240431\n",
       "std      180.958418    132.049515\n",
       "min       71.000000     71.000000\n",
       "25%      127.000000    118.000000\n",
       "50%      210.000000    191.000000\n",
       "75%      396.000000    315.000000\n",
       "max      640.000000    640.000000"
      ]
     },
     "execution_count": 37,
     "metadata": {},
     "output_type": "execute_result"
    }
   ],
   "source": [
    "df_val.describe()"
   ]
  },
  {
   "attachments": {},
   "cell_type": "markdown",
   "metadata": {},
   "source": [
    "Dans le jeu de validation nous avons 55 388 images. On a une variance plus faible pour la largeur et la longueur des images (180,9 et 132,04) ainsi que des images plus petites (largeur moyenne de 275 pixels et longueur moyenne de 228 pixels)."
   ]
  },
  {
   "cell_type": "markdown",
   "metadata": {},
   "source": []
  }
 ],
 "metadata": {
  "kernelspec": {
   "display_name": "env",
   "language": "python",
   "name": "python3"
  },
  "language_info": {
   "codemirror_mode": {
    "name": "ipython",
    "version": 3
   },
   "file_extension": ".py",
   "mimetype": "text/x-python",
   "name": "python",
   "nbconvert_exporter": "python",
   "pygments_lexer": "ipython3",
   "version": "3.11.4"
  },
  "orig_nbformat": 4
 },
 "nbformat": 4,
 "nbformat_minor": 2
}
