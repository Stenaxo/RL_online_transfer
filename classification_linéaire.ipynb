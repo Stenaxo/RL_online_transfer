{
 "cells": [
  {
   "cell_type": "code",
   "execution_count": 1,
   "metadata": {},
   "outputs": [],
   "source": [
    "import os\n",
    "import cv2\n",
    "import pandas as pd\n",
    "import matplotlib as plt\n",
    "import numpy as np\n",
    "import torch\n",
    "import torchvision"
   ]
  },
  {
   "cell_type": "code",
   "execution_count": 2,
   "metadata": {},
   "outputs": [
    {
     "ename": "",
     "evalue": "",
     "output_type": "error",
     "traceback": [
      "\u001b[1;31mCanceled future for execute_request message before replies were done"
     ]
    },
    {
     "ename": "",
     "evalue": "",
     "output_type": "error",
     "traceback": [
      "\u001b[1;31mLe Kernel s’est bloqué lors de l’exécution du code dans la cellule active ou une cellule précédente. Veuillez vérifier le code dans la ou les cellules pour identifier une cause possible de l’échec. Cliquez <a href='https://aka.ms/vscodeJupyterKernelCrash'>ici</a> pour plus d’informations. Pour plus d’informations, consultez Jupyter <a href='command:jupyter.viewOutput'>log</a>."
     ]
    }
   ],
   "source": [
    "image_dirs = ['train/aeroplane', 'train/bicycle', 'train/bus', 'train/car', 'train/horse', \n",
    "              'train/knife','train/motorcycle', 'train/person', 'train/plant', 'train/skateboard','train/train','train/truck']\n",
    "\n",
    "image_data = []\n",
    "for image_dir in image_dirs:\n",
    "    \n",
    "    image_files = [f for f in os.listdir(image_dir) if os.path.isfile(os.path.join(image_dir, f))]\n",
    "\n",
    "    for image_file in image_files:\n",
    "        image_path = os.path.join(image_dir, image_file)\n",
    "        img = cv2.imread(image_path)\n",
    "        height, width, _ = img.shape\n",
    "        image_data.append({'file': image_file, 'width': width, 'height': height, 'dir': image_dir})\n",
    "\n",
    "df_train = pd.DataFrame(image_data)"
   ]
  },
  {
   "cell_type": "code",
   "execution_count": 4,
   "metadata": {},
   "outputs": [],
   "source": [
    "df_train['dir'] = df_train['dir'].str.replace('train/', '', regex=False)\n",
    "df_train.rename(columns={'dir': 'object_type'}, inplace=True)"
   ]
  },
  {
   "cell_type": "code",
   "execution_count": 17,
   "metadata": {},
   "outputs": [
    {
     "data": {
      "text/html": [
       "<div>\n",
       "<style scoped>\n",
       "    .dataframe tbody tr th:only-of-type {\n",
       "        vertical-align: middle;\n",
       "    }\n",
       "\n",
       "    .dataframe tbody tr th {\n",
       "        vertical-align: top;\n",
       "    }\n",
       "\n",
       "    .dataframe thead th {\n",
       "        text-align: right;\n",
       "    }\n",
       "</style>\n",
       "<table border=\"1\" class=\"dataframe\">\n",
       "  <thead>\n",
       "    <tr style=\"text-align: right;\">\n",
       "      <th></th>\n",
       "      <th>file</th>\n",
       "      <th>width</th>\n",
       "      <th>height</th>\n",
       "      <th>object_type</th>\n",
       "    </tr>\n",
       "  </thead>\n",
       "  <tbody>\n",
       "    <tr>\n",
       "      <th>0</th>\n",
       "      <td>src_2_02691156_1d6afc44b053ab07941d71475449eb2...</td>\n",
       "      <td>384</td>\n",
       "      <td>216</td>\n",
       "      <td>aeroplane</td>\n",
       "    </tr>\n",
       "    <tr>\n",
       "      <th>1</th>\n",
       "      <td>src_1_02691156_7f09b3b11ae3f22dbe13ce34aa7c0c1...</td>\n",
       "      <td>384</td>\n",
       "      <td>216</td>\n",
       "      <td>aeroplane</td>\n",
       "    </tr>\n",
       "    <tr>\n",
       "      <th>2</th>\n",
       "      <td>src_2_02691156_7aac10eb5b285098774a720fca15e35...</td>\n",
       "      <td>384</td>\n",
       "      <td>216</td>\n",
       "      <td>aeroplane</td>\n",
       "    </tr>\n",
       "    <tr>\n",
       "      <th>3</th>\n",
       "      <td>src_2_02691156_1b0b1d2cb9f9d5c0575bd26acccafab...</td>\n",
       "      <td>384</td>\n",
       "      <td>216</td>\n",
       "      <td>aeroplane</td>\n",
       "    </tr>\n",
       "    <tr>\n",
       "      <th>4</th>\n",
       "      <td>src_2_02691156_4def53f149137451b0009f08a96f38a...</td>\n",
       "      <td>384</td>\n",
       "      <td>216</td>\n",
       "      <td>aeroplane</td>\n",
       "    </tr>\n",
       "  </tbody>\n",
       "</table>\n",
       "</div>"
      ],
      "text/plain": [
       "                                                file  width  height  \\\n",
       "0  src_2_02691156_1d6afc44b053ab07941d71475449eb2...    384     216   \n",
       "1  src_1_02691156_7f09b3b11ae3f22dbe13ce34aa7c0c1...    384     216   \n",
       "2  src_2_02691156_7aac10eb5b285098774a720fca15e35...    384     216   \n",
       "3  src_2_02691156_1b0b1d2cb9f9d5c0575bd26acccafab...    384     216   \n",
       "4  src_2_02691156_4def53f149137451b0009f08a96f38a...    384     216   \n",
       "\n",
       "  object_type  \n",
       "0   aeroplane  \n",
       "1   aeroplane  \n",
       "2   aeroplane  \n",
       "3   aeroplane  \n",
       "4   aeroplane  "
      ]
     },
     "execution_count": 17,
     "metadata": {},
     "output_type": "execute_result"
    }
   ],
   "source": [
    "df_train.head(5)"
   ]
  },
  {
   "cell_type": "code",
   "execution_count": 7,
   "metadata": {},
   "outputs": [
    {
     "ename": "TypeError",
     "evalue": "unsupported operand type(s) for /: 'str' and 'int'",
     "output_type": "error",
     "traceback": [
      "\u001b[0;31m---------------------------------------------------------------------------\u001b[0m",
      "\u001b[0;31mTypeError\u001b[0m                                 Traceback (most recent call last)",
      "Cell \u001b[0;32mIn[7], line 8\u001b[0m\n\u001b[1;32m      6\u001b[0m   plt\u001b[39m.\u001b[39mimshow(np\u001b[39m.\u001b[39mtranspose(npimg, (\u001b[39m1\u001b[39m, \u001b[39m2\u001b[39m, \u001b[39m0\u001b[39m)))\n\u001b[1;32m      7\u001b[0m   plt\u001b[39m.\u001b[39mshow()\n\u001b[0;32m----> 8\u001b[0m ig \u001b[39m=\u001b[39m imshow(imag)\n\u001b[1;32m      9\u001b[0m grid_images \u001b[39m=\u001b[39m torchvision\u001b[39m.\u001b[39mutils\u001b[39m.\u001b[39mmake_grid(ig)\n\u001b[1;32m     10\u001b[0m imshow(grid_images)\n",
      "Cell \u001b[0;32mIn[7], line 4\u001b[0m, in \u001b[0;36mimshow\u001b[0;34m(img)\u001b[0m\n\u001b[1;32m      3\u001b[0m \u001b[39mdef\u001b[39;00m \u001b[39mimshow\u001b[39m(img):\n\u001b[0;32m----> 4\u001b[0m   img \u001b[39m=\u001b[39m img \u001b[39m/\u001b[39;49m \u001b[39m2\u001b[39;49m \u001b[39m+\u001b[39m \u001b[39m0.5\u001b[39m\n\u001b[1;32m      5\u001b[0m   npimg \u001b[39m=\u001b[39m img\u001b[39m.\u001b[39mnumpy()\n\u001b[1;32m      6\u001b[0m   plt\u001b[39m.\u001b[39mimshow(np\u001b[39m.\u001b[39mtranspose(npimg, (\u001b[39m1\u001b[39m, \u001b[39m2\u001b[39m, \u001b[39m0\u001b[39m)))\n",
      "\u001b[0;31mTypeError\u001b[0m: unsupported operand type(s) for /: 'str' and 'int'"
     ]
    }
   ],
   "source": []
  },
  {
   "cell_type": "code",
   "execution_count": null,
   "metadata": {},
   "outputs": [],
   "source": []
  }
 ],
 "metadata": {
  "kernelspec": {
   "display_name": "env",
   "language": "python",
   "name": "python3"
  },
  "language_info": {
   "codemirror_mode": {
    "name": "ipython",
    "version": 3
   },
   "file_extension": ".py",
   "mimetype": "text/x-python",
   "name": "python",
   "nbconvert_exporter": "python",
   "pygments_lexer": "ipython3",
   "version": "3.11.4"
  },
  "orig_nbformat": 4
 },
 "nbformat": 4,
 "nbformat_minor": 2
}
